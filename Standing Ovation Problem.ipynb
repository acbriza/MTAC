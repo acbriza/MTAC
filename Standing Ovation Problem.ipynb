{
 "cells": [
  {
   "cell_type": "markdown",
   "metadata": {},
   "source": [
    "## Standing Ovation Problem"
   ]
  },
  {
   "cell_type": "markdown",
   "metadata": {},
   "source": [
    "This is a very rough model on the Standing Ovation Problem.\n",
    "The purpose is to have a quick and dirty idea on how the model could be implemented.\n",
    "The code is not yet refined and may require revision and optimization."
   ]
  },
  {
   "cell_type": "markdown",
   "metadata": {},
   "source": [
    "#### A quick simulation of a rough model"
   ]
  },
  {
   "cell_type": "code",
   "execution_count": 271,
   "metadata": {},
   "outputs": [],
   "source": [
    "import numpy as np"
   ]
  },
  {
   "cell_type": "markdown",
   "metadata": {},
   "source": [
    "#### venue parameters"
   ]
  },
  {
   "cell_type": "code",
   "execution_count": 272,
   "metadata": {},
   "outputs": [],
   "source": [
    "# assume theather is rectangular\n",
    "nrows = 16\n",
    "ncols = 12\n",
    "nguests = nrows * ncols"
   ]
  },
  {
   "cell_type": "markdown",
   "metadata": {},
   "source": [
    "#### guest as influencer parameters"
   ]
  },
  {
   "cell_type": "code",
   "execution_count": 273,
   "metadata": {},
   "outputs": [
    {
     "data": {
      "text/plain": [
       "array([[0.8516399 , 0.22368267, 0.2913378 , 0.46818773, 0.55907563,\n",
       "        0.85331226, 0.94620391, 0.40320701, 0.17118403, 0.69289056,\n",
       "        0.02818124, 0.09166342],\n",
       "       [0.21517489, 0.08034373, 0.32166343, 0.09937941, 0.89119295,\n",
       "        0.19227674, 0.60699579, 0.96293454, 0.75210713, 0.94955482,\n",
       "        0.04807124, 0.65276859],\n",
       "       [0.24809006, 0.89383296, 0.71194241, 0.28179696, 0.56216938,\n",
       "        0.82388313, 0.7876907 , 0.88318267, 0.25514266, 0.36222265,\n",
       "        0.09551254, 0.63591462],\n",
       "       [0.1794037 , 0.68260244, 0.96239513, 0.7249737 , 0.02261087,\n",
       "        0.02765403, 0.46067635, 0.57114398, 0.76757746, 0.14592382,\n",
       "        0.6967832 , 0.23649344],\n",
       "       [0.41667507, 0.38312624, 0.67876084, 0.57587922, 0.1317673 ,\n",
       "        0.45906357, 0.33079463, 0.51162828, 0.43773908, 0.53527065,\n",
       "        0.56384774, 0.07162442],\n",
       "       [0.2213747 , 0.5890172 , 0.85189804, 0.32579601, 0.47735565,\n",
       "        0.19868844, 0.23148155, 0.13540315, 0.59272066, 0.7488616 ,\n",
       "        0.53917193, 0.58593353],\n",
       "       [0.99857384, 0.95385045, 0.17369814, 0.58136578, 0.53585649,\n",
       "        0.06083757, 0.83291253, 0.57174711, 0.34997691, 0.65905861,\n",
       "        0.40617982, 0.39500933],\n",
       "       [0.57769862, 0.46154463, 0.07570424, 0.82196663, 0.96977057,\n",
       "        0.73903315, 0.33067114, 0.35870454, 0.52696361, 0.3773223 ,\n",
       "        0.3511738 , 0.81906079],\n",
       "       [0.16297112, 0.68178383, 0.82736997, 0.85099866, 0.92961329,\n",
       "        0.03086595, 0.89177322, 0.43663093, 0.62965696, 0.41193084,\n",
       "        0.09055115, 0.93553209],\n",
       "       [0.74715693, 0.05904349, 0.24605906, 0.23415115, 0.95547798,\n",
       "        0.6708602 , 0.20739683, 0.1949049 , 0.07433517, 0.67719756,\n",
       "        0.94772294, 0.43308107],\n",
       "       [0.93456328, 0.90191032, 0.28229487, 0.14092724, 0.59579735,\n",
       "        0.50234931, 0.53911339, 0.75839384, 0.34756037, 0.64802658,\n",
       "        0.97762535, 0.34083326],\n",
       "       [0.57110345, 0.8881155 , 0.10932804, 0.92624972, 0.33000736,\n",
       "        0.20255285, 0.99832225, 0.46733373, 0.92949578, 0.59525957,\n",
       "        0.84316449, 0.18193873],\n",
       "       [0.25304797, 0.30686753, 0.52045785, 0.54235664, 0.96830857,\n",
       "        0.74365358, 0.03494876, 0.76450158, 0.26669043, 0.25993849,\n",
       "        0.19567369, 0.81193508],\n",
       "       [0.93476165, 0.7152719 , 0.05273219, 0.43247603, 0.56118729,\n",
       "        0.85347326, 0.5214962 , 0.93649455, 0.38946211, 0.09076264,\n",
       "        0.66377638, 0.32048979],\n",
       "       [0.29393574, 0.82264392, 0.40763745, 0.16050384, 0.66915765,\n",
       "        0.96757571, 0.607354  , 0.61690227, 0.74833886, 0.18121364,\n",
       "        0.51707967, 0.19843814],\n",
       "       [0.83865338, 0.8915455 , 0.70607384, 0.09729336, 0.1325998 ,\n",
       "        0.91230054, 0.66756292, 0.95539846, 0.06567557, 0.91747962,\n",
       "        0.61062677, 0.63624916]])"
      ]
     },
     "execution_count": 273,
     "metadata": {},
     "output_type": "execute_result"
    }
   ],
   "source": [
    "# guests as influencer (Active)- ability to influence persons beside him/her\n",
    "active_influence_factor = np.random.random((nrows, ncols)) \n",
    "active_influence_factor"
   ]
  },
  {
   "cell_type": "markdown",
   "metadata": {},
   "source": [
    "#### guests as influenced (Passive)\n"
   ]
  },
  {
   "cell_type": "code",
   "execution_count": 274,
   "metadata": {},
   "outputs": [],
   "source": [
    "# A person stands if performance is greater the his PPT\n",
    "passive_performance_threshold = 0.6 + 0.4 * np.random.random((nrows, ncols))"
   ]
  },
  {
   "cell_type": "code",
   "execution_count": 275,
   "metadata": {},
   "outputs": [],
   "source": [
    "# A person stands if a person *adjacent* to him has a PPT higher than his PIT\n",
    "passive_adjacent_guest_influence_threshold = np.random.random((nrows, ncols))"
   ]
  },
  {
   "cell_type": "code",
   "execution_count": 276,
   "metadata": {},
   "outputs": [
    {
     "data": {
      "text/plain": [
       "array([[5, 4, 2, 4, 2, 2, 4, 2, 5, 3, 4, 5],\n",
       "       [4, 2, 4, 4, 3, 2, 5, 5, 2, 2, 4, 3],\n",
       "       [3, 2, 4, 5, 2, 3, 2, 5, 5, 5, 3, 5],\n",
       "       [2, 4, 2, 5, 3, 5, 2, 4, 2, 2, 3, 5],\n",
       "       [3, 2, 5, 2, 5, 3, 3, 2, 5, 3, 2, 4],\n",
       "       [4, 2, 2, 2, 4, 2, 2, 4, 2, 4, 2, 2],\n",
       "       [4, 3, 3, 5, 4, 5, 4, 5, 2, 4, 3, 2],\n",
       "       [2, 4, 3, 4, 3, 4, 3, 2, 2, 4, 4, 3],\n",
       "       [5, 5, 5, 2, 3, 3, 5, 3, 2, 5, 5, 3],\n",
       "       [2, 5, 5, 5, 2, 4, 4, 2, 2, 5, 4, 5],\n",
       "       [3, 2, 2, 4, 3, 5, 4, 3, 5, 5, 5, 3],\n",
       "       [5, 2, 4, 4, 5, 2, 4, 3, 2, 5, 5, 5],\n",
       "       [4, 2, 4, 3, 2, 5, 5, 2, 4, 2, 3, 5],\n",
       "       [3, 4, 5, 4, 3, 5, 3, 3, 5, 2, 4, 5],\n",
       "       [5, 2, 2, 4, 2, 4, 4, 3, 2, 4, 4, 2],\n",
       "       [4, 2, 4, 4, 5, 5, 4, 5, 3, 4, 3, 2]])"
      ]
     },
     "execution_count": 276,
     "metadata": {},
     "output_type": "execute_result"
    }
   ],
   "source": [
    "# A person stands if number of persons around him stand (assume at least 2) \n",
    "passive_adjacent_guests_number_threshold = np.random.randint(2, 6,(nrows, ncols))\n",
    "passive_adjacent_guests_number_threshold"
   ]
  },
  {
   "cell_type": "code",
   "execution_count": 280,
   "metadata": {},
   "outputs": [
    {
     "data": {
      "text/plain": [
       "array([[  0.,   0.,   0.,   0.,   0.,   0.,   0.,   0.,   0.,   0.,   0.,\n",
       "          0.],\n",
       "       [ 10.,  10.,  11.,   9.,   5.,   5.,   9.,   6.,   8.,   8.,   9.,\n",
       "          8.],\n",
       "       [ 18.,  23.,  14.,  13.,  16.,   8.,  21.,  18.,  13.,  20.,  15.,\n",
       "         19.],\n",
       "       [ 21.,  19.,  24.,  22.,  12.,  22.,  20.,  32.,  30.,  13.,  23.,\n",
       "         23.],\n",
       "       [ 23.,  32.,  25.,  29.,  46.,  28.,  21.,  26.,  18.,  19.,  42.,\n",
       "         45.],\n",
       "       [ 54.,  58.,  59.,  52.,  45.,  48.,  21.,  38.,  58.,  22.,  22.,\n",
       "         58.],\n",
       "       [ 67.,  37.,  32.,  43.,  47.,  67.,  58.,  33.,  67.,  49.,  32.,\n",
       "         59.],\n",
       "       [ 40.,  59.,  75.,  71.,  54.,  45.,  30.,  69.,  64.,  51.,  32.,\n",
       "         76.],\n",
       "       [ 65.,  65.,  56.,  75.,  82.,  81.,  51.,  89.,  51.,  32.,  48.,\n",
       "         88.],\n",
       "       [ 95.,  83., 101.,  36.,  99.,  48.,  60.,  83.,  80.,  73.,  54.,\n",
       "         82.],\n",
       "       [ 57., 110., 104., 108.,  81., 119.,  49.,  60., 100.,  81.,  86.,\n",
       "         47.],\n",
       "       [ 61.,  67.,  96.,  78.,  92.,  94.,  78.,  49.,  90., 103., 115.,\n",
       "        113.],\n",
       "       [ 63.,  78.,  92.,  78., 107.,  85.,  53.,  65.,  89.,  65.,  99.,\n",
       "        131.],\n",
       "       [146.,  91., 104., 127.,  61.,  99., 113., 126.,  76., 136.,  91.,\n",
       "        128.],\n",
       "       [110., 133., 134., 101.,  68., 106., 119.,  58., 116., 135.,  92.,\n",
       "         84.],\n",
       "       [ 72., 177.,  98., 148., 124., 142., 113.,  84.,  67., 106., 149.,\n",
       "         76.]])"
      ]
     },
     "execution_count": 280,
     "metadata": {},
     "output_type": "execute_result"
    }
   ],
   "source": [
    "# A person stands if at least 33% of the number of persons in the rows in front of him stands \n",
    "passive_visible_guests_threshold = np.zeros(ncols)\n",
    "for row in np.arange(1, nrows):\n",
    "    frontrows_size = row*ncols\n",
    "    v = np.random.randint(frontrows_size//3, frontrows_size, ncols)\n",
    "    passive_visible_guests_threshold = np.vstack((passive_visible_guests_threshold, v))\n",
    "passive_visible_guests_threshold"
   ]
  },
  {
   "cell_type": "code",
   "execution_count": 290,
   "metadata": {},
   "outputs": [
    {
     "data": {
      "text/plain": [
       "array([[156, 163, 111, 126, 185, 180, 100, 179, 136, 135, 118, 190],\n",
       "       [106, 121, 114, 132, 137, 148, 137, 159, 102, 137,  97, 115],\n",
       "       [128, 116, 150, 104, 175, 170, 104, 105, 186, 129, 156, 146],\n",
       "       [142, 174, 150, 113, 147, 110, 113, 113, 169, 143, 190,  98],\n",
       "       [133, 126, 106, 153, 165, 159, 105, 118, 149, 158, 113, 154],\n",
       "       [175, 112, 128, 155, 183, 172, 111, 173, 145, 132, 104, 163],\n",
       "       [146, 105, 122,  98,  98, 173, 100, 105, 132, 169, 183, 146],\n",
       "       [189, 189, 141, 176, 137, 190, 116, 152, 128, 189, 133, 160],\n",
       "       [187, 182, 118,  98, 162, 159, 111, 112, 183, 138, 136, 171],\n",
       "       [178, 101, 183, 175, 171, 146, 184, 149, 181, 165, 120, 148],\n",
       "       [134, 133, 106, 122, 178, 184, 133, 167, 114, 171, 181, 176],\n",
       "       [154, 100, 144, 150, 139, 100, 186, 182, 132, 148, 112, 139],\n",
       "       [180, 168, 129, 126, 185, 128, 138, 144, 181, 191, 141, 111],\n",
       "       [111, 170, 109,  98, 165, 107, 108, 109, 120, 159,  96, 137],\n",
       "       [190, 176, 108, 155, 169, 106, 159, 142, 106, 128, 155, 147],\n",
       "       [185, 123, 157, 152, 178, 121, 189, 110, 132, 149, 126, 159]])"
      ]
     },
     "execution_count": 290,
     "metadata": {},
     "output_type": "execute_result"
    }
   ],
   "source": [
    "# A person stands if number of persons in the room is at least 50%\n",
    "passive_all_guests_threshold = np.random.randint(nguests//2, nguests, (nrows, ncols))\n",
    "passive_all_guests_threshold"
   ]
  },
  {
   "cell_type": "markdown",
   "metadata": {},
   "source": [
    "#### time parameters"
   ]
  },
  {
   "cell_type": "code",
   "execution_count": 282,
   "metadata": {},
   "outputs": [
    {
     "data": {
      "text/plain": [
       "array([[5, 3, 1, 1, 2, 4, 2, 3, 3, 1, 3, 1],\n",
       "       [5, 3, 5, 2, 1, 1, 1, 1, 4, 3, 1, 5],\n",
       "       [1, 2, 3, 1, 5, 1, 5, 4, 1, 3, 2, 1],\n",
       "       [2, 4, 4, 4, 2, 1, 3, 5, 3, 2, 1, 3],\n",
       "       [2, 1, 2, 4, 1, 4, 1, 5, 3, 2, 4, 5],\n",
       "       [2, 1, 3, 1, 4, 2, 1, 3, 4, 4, 2, 2],\n",
       "       [1, 1, 4, 2, 4, 4, 5, 4, 1, 1, 2, 3],\n",
       "       [4, 5, 3, 3, 5, 1, 5, 5, 5, 4, 3, 5],\n",
       "       [1, 3, 1, 2, 3, 3, 3, 4, 3, 5, 3, 5],\n",
       "       [2, 5, 3, 5, 4, 5, 2, 3, 4, 4, 2, 3],\n",
       "       [4, 1, 3, 5, 1, 2, 4, 4, 4, 3, 4, 3],\n",
       "       [5, 3, 3, 2, 5, 1, 1, 3, 4, 2, 1, 4],\n",
       "       [4, 2, 3, 1, 4, 1, 2, 4, 1, 1, 1, 4],\n",
       "       [5, 1, 4, 4, 5, 2, 1, 2, 3, 2, 5, 3],\n",
       "       [2, 2, 1, 3, 4, 4, 3, 5, 5, 2, 3, 1],\n",
       "       [2, 3, 1, 2, 1, 3, 2, 3, 4, 4, 3, 1]])"
      ]
     },
     "execution_count": 282,
     "metadata": {},
     "output_type": "execute_result"
    }
   ],
   "source": [
    "# how long a person is willing to stand\n",
    "hold = np.random.randint(1, num_iter//3, (nrows, ncols))\n",
    "hold"
   ]
  },
  {
   "cell_type": "markdown",
   "metadata": {},
   "source": [
    "### Simulation"
   ]
  },
  {
   "cell_type": "raw",
   "metadata": {},
   "source": [
    "# initialize position of guests as 0 for seated, 1 for standing\n",
    "standing = np.random.random((nrows, ncols))\n",
    "standing = np.round(standing, 0)\n"
   ]
  },
  {
   "cell_type": "code",
   "execution_count": 283,
   "metadata": {},
   "outputs": [],
   "source": [
    "def adjacent_influenced(s, i, j):\n",
    "    # seat to the left of the guest\n",
    "    if (j>1) and s[i, j-1] and (active_influence_factor[i, j-1] > passive_adjacent_guest_influence_threshold[i, j]):\n",
    "        return True \n",
    "    # seat to the right of the guest\n",
    "    if (j<(ncols-1)) and s[i, j+1] and (active_influence_factor [i, j+1] > passive_adjacent_guest_influence_threshold[i, j]):\n",
    "        return True\n",
    "    return False"
   ]
  },
  {
   "cell_type": "code",
   "execution_count": 284,
   "metadata": {},
   "outputs": [],
   "source": [
    "def S(s, row, col):\n",
    "    \"\"\"return the value of s[row, col] if indices are within bounds.\n",
    "       otherwise, return 0\n",
    "    \"\"\"\n",
    "    if row>=0 and row<nrows:\n",
    "        if col>=0 and col<ncols:\n",
    "            return s[row, col]\n",
    "    return 0"
   ]
  },
  {
   "cell_type": "code",
   "execution_count": 285,
   "metadata": {},
   "outputs": [],
   "source": [
    "def persons_around_influenced(s, i, j):\n",
    "    num_standing = S(s, i-1, j-1) + S(s, i-1, j) + S(s, i-1, j+1) + S(s, i, j+1)  + S(s, i, j-1) \n",
    "    if num_standing > passive_adjacent_guests_number_threshold[i, j]:\n",
    "        return True\n",
    "    return False\n",
    " "
   ]
  },
  {
   "cell_type": "code",
   "execution_count": 286,
   "metadata": {},
   "outputs": [],
   "source": [
    "def visible_guests_influenced(s, i, j):\n",
    "    num_standing = 0\n",
    "    for row in range (i):# rows before i\n",
    "        num_standing = standing[i].sum()\n",
    "    if num_standing > passive_visible_guests_threshold[i, j]:\n",
    "        return True\n",
    "    return False"
   ]
  },
  {
   "cell_type": "code",
   "execution_count": 287,
   "metadata": {},
   "outputs": [],
   "source": [
    "def all_guests_influenced(s, i, j):\n",
    "    num_standing = s.sum()\n",
    "    if num_standing > passive_all_guests_threshold[i, j]:\n",
    "        return True\n",
    "    return False    "
   ]
  },
  {
   "cell_type": "markdown",
   "metadata": {},
   "source": [
    "#### performance parameters"
   ]
  },
  {
   "cell_type": "code",
   "execution_count": 288,
   "metadata": {},
   "outputs": [],
   "source": [
    "# can also be set randomly via np.random.random()\n",
    "performance_quality = 0.8 "
   ]
  },
  {
   "cell_type": "markdown",
   "metadata": {},
   "source": [
    "#### Loop through all guests for num_iter times"
   ]
  },
  {
   "cell_type": "code",
   "execution_count": 289,
   "metadata": {
    "scrolled": false
   },
   "outputs": [
    {
     "name": "stdout",
     "output_type": "stream",
     "text": [
      "Iteration: 1\n",
      "No.Persons Standing: 132\n",
      "Percentage Standing: 69%\n",
      "Iteration: 2\n",
      "No.Persons Standing: 187\n",
      "Percentage Standing: 97%\n",
      "Iteration: 3\n",
      "No.Persons Standing: 145\n",
      "Percentage Standing: 76%\n",
      "Iteration: 4\n",
      "No.Persons Standing: 154\n",
      "Percentage Standing: 80%\n",
      "Iteration: 5\n",
      "No.Persons Standing: 97\n",
      "Percentage Standing: 51%\n",
      "Iteration: 6\n",
      "No.Persons Standing: 94\n",
      "Percentage Standing: 49%\n",
      "Iteration: 7\n",
      "No.Persons Standing: 48\n",
      "Percentage Standing: 25%\n",
      "Iteration: 8\n",
      "No.Persons Standing: 93\n",
      "Percentage Standing: 48%\n",
      "Iteration: 9\n",
      "No.Persons Standing: 58\n",
      "Percentage Standing: 30%\n",
      "Iteration: 10\n",
      "No.Persons Standing: 95\n",
      "Percentage Standing: 49%\n",
      "Iteration: 11\n",
      "No.Persons Standing: 58\n",
      "Percentage Standing: 30%\n",
      "Iteration: 12\n",
      "No.Persons Standing: 95\n",
      "Percentage Standing: 49%\n",
      "Iteration: 13\n",
      "No.Persons Standing: 58\n",
      "Percentage Standing: 30%\n",
      "Iteration: 14\n",
      "No.Persons Standing: 95\n",
      "Percentage Standing: 49%\n",
      "Iteration: 15\n",
      "No.Persons Standing: 58\n",
      "Percentage Standing: 30%\n",
      "Iteration: 16\n",
      "No.Persons Standing: 95\n",
      "Percentage Standing: 49%\n",
      "Iteration: 17\n",
      "No.Persons Standing: 58\n",
      "Percentage Standing: 30%\n",
      "Iteration: 18\n",
      "No.Persons Standing: 95\n",
      "Percentage Standing: 49%\n",
      "Iteration: 19\n",
      "No.Persons Standing: 58\n",
      "Percentage Standing: 30%\n",
      "Iteration: 20\n",
      "No.Persons Standing: 95\n",
      "Percentage Standing: 49%\n"
     ]
    }
   ],
   "source": [
    "num_iter = 20\n",
    "standing = np.zeros((nrows, ncols))\n",
    "for t in range(num_iter):\n",
    "    new_standing = standing\n",
    "    for i in range(nrows):\n",
    "        for j in range(ncols):\n",
    "            if standing[i, j]:\n",
    "                if t>hold[i, j]:\n",
    "                    new_standing[i, j] = 0\n",
    "            else:\n",
    "                if performance_quality > passive_performance_threshold[i, j]:\n",
    "                    new_standing[i, j] = 1\n",
    "                elif adjacent_influenced(standing, i, j):\n",
    "                    new_standing[i, j] = 1\n",
    "                elif persons_around_influenced(standing, i, j):\n",
    "                    new_standing[i, j] = 1\n",
    "                elif visible_guests_influenced(standing, i, j):\n",
    "                    new_standing[i, j] = 1\n",
    "                elif all_guests_influenced(standing, i, j):\n",
    "                    new_standing[i, j] = 1\n",
    "    standing = new_standing\n",
    "    print(f'Iteration: {t+1}')\n",
    "    print(f'No.Persons Standing: {int(standing.sum())}')\n",
    "    print(f'Percentage Standing: {100*standing.sum()/nguests:.0f}%')    \n",
    "    #print(standing)"
   ]
  }
 ],
 "metadata": {
  "kernelspec": {
   "display_name": "Python 3",
   "language": "python",
   "name": "python3"
  },
  "language_info": {
   "codemirror_mode": {
    "name": "ipython",
    "version": 3
   },
   "file_extension": ".py",
   "mimetype": "text/x-python",
   "name": "python",
   "nbconvert_exporter": "python",
   "pygments_lexer": "ipython3",
   "version": "3.8.5"
  }
 },
 "nbformat": 4,
 "nbformat_minor": 4
}
